{
 "cells": [
  {
   "cell_type": "markdown",
   "metadata": {},
   "source": [
    "# Example notebook\n",
    "\n",
    "\n",
    "This is an example of the content available in a Jupyter notebook. It contains both \"Markdown\" cells (containing formated text and images) and code cells (in this case Python3 code).\n",
    "\n",
    "Live code can be interacted with in a number of ways. Those reading on the Jupyter Book at <https://acse-2020.github.io/introduction> can start an in-page interactive session by clicking the following button:\n",
    "\n",
    "```{thebe-button}\n",
    "```"
   ]
  },
  {
   "cell_type": "code",
   "execution_count": 2,
   "metadata": {},
   "outputs": [
    {
     "name": "stdout",
     "output_type": "stream",
     "text": [
      "14\n"
     ]
    }
   ],
   "source": [
    "# This is a code cell\n",
    "# Click the button above, once it reads \"Launching from mybinder.org; ready\"\n",
    "# the code here can be editted and re-run\n",
    "\n",
    "x = 7\n",
    "y = 10\n",
    "z = x+y\n",
    "z *= 2\n",
    "\n",
    "print(x)"
   ]
  },
  {
   "cell_type": "markdown",
   "metadata": {},
   "source": [
    "The entire GitHub repository serving these pages can be served on a free community servive, <https://mybinder.org> by clicking the <i class=\"fas fa-rocket\"></i> icon above and selcting \"Binder\". This provides the classic Jupyter notebook interface.\n",
    "\n",
    "Future ACSE students will be able to connect to a dedicated course Jupyterhub instance once they have created a correctly named GitHub account, as described elsewhere on this site. "
   ]
  },
  {
   "cell_type": "code",
   "execution_count": null,
   "metadata": {},
   "outputs": [],
   "source": []
  }
 ],
 "metadata": {
  "kernelspec": {
   "display_name": "Python 3",
   "language": "python",
   "name": "python3"
  },
  "language_info": {
   "codemirror_mode": {
    "name": "ipython",
    "version": 3
   },
   "file_extension": ".py",
   "mimetype": "text/x-python",
   "name": "python",
   "nbconvert_exporter": "python",
   "pygments_lexer": "ipython3",
   "version": "3.6.9"
  },
  "toc": {
   "base_numbering": 1,
   "nav_menu": {},
   "number_sections": true,
   "sideBar": true,
   "skip_h1_title": false,
   "title_cell": "Table of Contents",
   "title_sidebar": "Contents",
   "toc_cell": false,
   "toc_position": {},
   "toc_section_display": true,
   "toc_window_display": false
  }
 },
 "nbformat": 4,
 "nbformat_minor": 2
}
